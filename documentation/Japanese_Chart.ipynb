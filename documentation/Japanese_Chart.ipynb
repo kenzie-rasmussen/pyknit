{
 "cells": [
  {
   "cell_type": "markdown",
   "id": "1f1333a3-3f23-4d74-84de-205020b7393e",
   "metadata": {},
   "source": [
    "# Japanese Knitting Charts\n",
    "__Author: Kenzie Rasmussen__\n",
    "\n",
    "Ever since purchasing the Japanese Knitting Stitch Bible, I fell in love with Japanese knitting charts. Japanese knitting charts are completely standardized by JIS(Japan Industrial Standard), and knitting instructions are well regulated. Memorize the symbols as you would the knitting abbreviations, and you can unlock so many beautiful and complex patterns.\n",
    "\n",
    "The best thing about knitting charts is the ability to almost 'see' the pattern you are trying to achieve on the paper.\n",
    "\n",
    "![Japanese Knitting chart](japan_stitch_1.jpg)"
   ]
  },
  {
   "cell_type": "markdown",
   "id": "5dec7a03-962c-4827-a5a3-efea9d9c9184",
   "metadata": {},
   "source": [
    "A wonderful developer before me created a charting function! This allow us to input the verbal instructions for a pattern and recieve a nice chart from them."
   ]
  },
  {
   "cell_type": "code",
   "execution_count": 3,
   "id": "f15dc4a7-88fa-4b6e-a320-8376607bbd90",
   "metadata": {},
   "outputs": [
    {
     "name": "stdout",
     "output_type": "stream",
     "text": [
      "3 rows, 10 sts wide at max\n"
     ]
    },
    {
     "data": {
      "image/png": "[encoded data removed]",
      "text/plain": [
       "<PIL.Image.Image image mode=RGB size=550x200>"
      ]
     },
     "execution_count": 3,
     "metadata": {},
     "output_type": "execute_result"
    }
   ],
   "source": [
    "import pyknit\n",
    "\n",
    "instructions = \"\\n\".join([\n",
    "    \"p2 k2 p2 k2 p2\",\n",
    "    \"p2 C2-1PL C2-1PR p2\",\n",
    "    \"p3 k4 p3\"\n",
    "])\n",
    "patt = pyknit.parse_chart(instructions, legend=pyknit.stitch_legend)\n",
    "\n",
    "pyknit.plot_chart(patt, tb_direction= \"bt\", lr_direction=\"rl\")"
   ]
  },
  {
   "cell_type": "markdown",
   "id": "1ef7dfdc-8c16-4ee0-8020-880dd2d4e156",
   "metadata": {},
   "source": [
    "However, as someone who almost exclusively reads japanese knitting charts, I wanted to ability to create my own charts without memorizing a new chart _language_."
   ]
  },
  {
   "cell_type": "code",
   "execution_count": 11,
   "id": "19b99bfd-cd16-4664-968f-a31a901114e8",
   "metadata": {},
   "outputs": [
    {
     "name": "stdout",
     "output_type": "stream",
     "text": [
      "3 rows, 6 sts wide at max\n"
     ]
    },
    {
     "data": {
      "image/png": "[encoded data removed]",
      "text/plain": [
       "<PIL.Image.Image image mode=RGB size=350x200>"
      ]
     },
     "execution_count": 11,
     "metadata": {},
     "output_type": "execute_result"
    }
   ],
   "source": [
    "import pyknit\n",
    "\n",
    "instructions = \"\\n\".join([\n",
    "    \"p1 k2 p2 k1\",\n",
    "    \"p1 C1-1PL C1-1PR p1\",\n",
    "    \"p2 k2 p2\"\n",
    "])\n",
    "patt = pyknit.parse_chart(instructions, legend=pyknit.stitch_legend_japanese)\n",
    "\n",
    "pyknit.plot_chart(patt, tb_direction= \"bt\", lr_direction=\"rl\")"
   ]
  },
  {
   "cell_type": "markdown",
   "id": "28ccc2b8-1172-4543-be78-feaa68af91ca",
   "metadata": {},
   "source": [
    "Behold! A new kind of knitting chart, now using the symbols I am used to. The only difference between the two is that I specified that I wanted to use this chart:"
   ]
  },
  {
   "cell_type": "raw",
   "id": "d1b0c59d-b937-4343-b089-3ed75fd9d191",
   "metadata": {},
   "source": [
    "pyknit.stitch_legend_japanese"
   ]
  },
  {
   "cell_type": "markdown",
   "id": "b034f9a9-9ffd-46e1-a745-2f4c53ac7927",
   "metadata": {},
   "source": [
    "I've created images for nearly all the symbols, viewable within the symbols/japanese folder."
   ]
  },
  {
   "cell_type": "markdown",
   "id": "4dc9b45b-902d-4b25-b80b-55cf2dde0ce5",
   "metadata": {},
   "source": [
    "### Knitting Diagrams\n",
    "\n",
    "In addition, to help knitters wanting to start using japanese knitting charts, I've placed a few demonstration images in the documentation folder. I've tried to include helpful instructions for each stitch, which you can easily view:\n",
    "\n",
    "![Knitting Demo](./japanese-illustrations/japanese-knitting-symbols-illustrations-2.png)\n",
    "\n",
    "The legend itself also has helpful instructions that you can use to remind yourself which stitch the symbol is referring to:\n",
    "\n",
    "![C4L Image](C4L.png)"
   ]
  },
  {
   "cell_type": "code",
   "execution_count": 19,
   "id": "ea3966fc-60ce-46ca-aae1-8889c5fec1c4",
   "metadata": {},
   "outputs": [
    {
     "data": {
      "text/plain": [
       "'Place 1 st on CN, hold to front, k3; k1 from CN'"
      ]
     },
     "execution_count": 19,
     "metadata": {},
     "output_type": "execute_result"
    }
   ],
   "source": [
    "pyknit.stitch_legend_japanese[\"C4L\"].instruction"
   ]
  },
  {
   "cell_type": "markdown",
   "id": "2426cd36-8a28-46f9-8b14-7afc96327487",
   "metadata": {},
   "source": [
    "> As time goes on, I will be adding to the japanese legend with more chart options familiar to me. Please feel free to add an issue to the repo asking for a specific stitch."
   ]
  },
  {
   "cell_type": "markdown",
   "id": "c55f44e8-1bd6-44be-9648-f05e09e0f5cb",
   "metadata": {},
   "source": [
    "## Developer Instructions\n",
    "\n",
    "Developers wishing to add on to the project, here is what you need to know. I created the stitch_legend_japanese object within the Chart.yaml file of the project, right below the standard stitch_legend object. Other objects within the file have largely been untouched, with the exception of altering the parameter to accept dynamic input."
   ]
  },
  {
   "cell_type": "markdown",
   "id": "fa2fe124-555a-4823-b0c4-263b0507bc58",
   "metadata": {},
   "source": [
    "Please **triple check** that your file names and stitch legend alterations are without errors or misspellings. This legend is going to become the guildine for all users of this program looking to make charts. If you notice any errors or mispellings, create a github issue so we can get that fixed."
   ]
  },
  {
   "cell_type": "code",
   "execution_count": null,
   "id": "3ca7054f-976e-4353-b722-b8737e282cc6",
   "metadata": {},
   "outputs": [],
   "source": []
  }
 ],
 "metadata": {
  "kernelspec": {
   "display_name": "Python 3 (ipykernel)",
   "language": "python",
   "name": "python3"
  },
  "language_info": {
   "codemirror_mode": {
    "name": "ipython",
    "version": 3
   },
   "file_extension": ".py",
   "mimetype": "text/x-python",
   "name": "python",
   "nbconvert_exporter": "python",
   "pygments_lexer": "ipython3",
   "version": "3.10.6"
  }
 },
 "nbformat": 4,
 "nbformat_minor": 5
}
