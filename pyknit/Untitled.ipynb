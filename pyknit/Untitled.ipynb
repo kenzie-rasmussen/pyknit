{
 "cells": [
  {
   "cell_type": "code",
   "execution_count": 2,
   "id": "ae2a389a-9b68-425c-8303-dad7cbb84f4c",
   "metadata": {},
   "outputs": [],
   "source": [
    "import math\n",
    "from typing import Set\n",
    "\n",
    "from pydantic import BaseModel, PositiveFloat, PositiveInt, validate_arguments\n",
    "from pydantic.typing import Literal\n",
    "\n",
    "\n",
    "class GaugeSwatch(BaseModel):\n",
    "    \"\"\"Information from a gauge swatch\"\"\"\n",
    "    row_count: PositiveFloat\n",
    "    row_measure: PositiveFloat\n",
    "    stitch_count: PositiveFloat\n",
    "    stitch_measure: PositiveFloat\n",
    "    units: Literal['cm', 'in']\n",
    "    # TODO: add yardage/weight for calculations?\n",
    "\n",
    "    def row_gauge(self) -> float:\n",
    "        \"\"\" return rows per unit (e.g. cm, inch) number \"\"\"\n",
    "        return self.row_count / self.row_measure\n",
    "\n",
    "    def stitch_gauge(self) -> float:\n",
    "        \"\"\" return stitches per unit (e.g. cm, inch) number \"\"\"\n",
    "        return self.stitch_count / self.stitch_measure\n",
    "\n",
    "    @validate_arguments\n",
    "    def measurement_to_stitches(self, measurement: PositiveFloat) -> int:\n",
    "        \"\"\"\n",
    "        Given a measurement, how many stiches would we need?\n",
    "        Round to closest stitch.\n",
    "        \"\"\"\n",
    "        return round(measurement * self.stitch_gauge())\n",
    "\n",
    "    @validate_arguments\n",
    "    def measurement_to_rows(self, measurement: PositiveFloat) -> int:\n",
    "        \"\"\"\n",
    "        Given a measurement, how many rows would we need?\n",
    "        Round to closest number of rows.\"\"\"\n",
    "        return round(measurement * self.row_gauge())\n",
    "\n",
    "    @validate_arguments\n",
    "    def rows_to_measurement(self, rows: PositiveInt) -> float:\n",
    "        \"\"\" figure out how long a number of rows will be \"\"\"\n",
    "        return rows / self.row_gauge()\n",
    "\n",
    "    @validate_arguments\n",
    "    def stitches_to_measurement(self, stitches: PositiveInt) -> float:\n",
    "        \"\"\" figure out how wide a number of stitches will be \"\"\"\n",
    "        return stitches / self.stitch_gauge()"
   ]
  },
  {
   "cell_type": "code",
   "execution_count": null,
   "id": "cbac1fac-46b7-45d8-b682-3719df30a3cb",
   "metadata": {},
   "outputs": [],
   "source": []
  }
 ],
 "metadata": {
  "kernelspec": {
   "display_name": "Python 3 (ipykernel)",
   "language": "python",
   "name": "python3"
  },
  "language_info": {
   "codemirror_mode": {
    "name": "ipython",
    "version": 3
   },
   "file_extension": ".py",
   "mimetype": "text/x-python",
   "name": "python",
   "nbconvert_exporter": "python",
   "pygments_lexer": "ipython3",
   "version": "3.10.6"
  }
 },
 "nbformat": 4,
 "nbformat_minor": 5
}
